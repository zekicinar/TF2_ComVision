{
 "cells": [
  {
   "cell_type": "markdown",
   "id": "bc735eae",
   "metadata": {},
   "source": [
    "# CHAPTER 1\n",
    "\n",
    "### basic building blocks of the Keras API\n"
   ]
  },
  {
   "cell_type": "markdown",
   "id": "55420cd6",
   "metadata": {},
   "source": [
    "basic building blocks of Keras by creating a very simple fully connected neural\n",
    "network. We will create 3 same models with different way and train them with mnist dataset"
   ]
  },
  {
   "cell_type": "code",
   "execution_count": 1,
   "id": "f83b98d5",
   "metadata": {},
   "outputs": [],
   "source": [
    "from sklearn.model_selection import train_test_split\n",
    "from sklearn.preprocessing import LabelBinarizer\n",
    "from tensorflow.keras import Input\n",
    "from tensorflow.keras.datasets import mnist\n",
    "from tensorflow.keras.layers import Dense\n",
    "from tensorflow.keras.models import *"
   ]
  },
  {
   "cell_type": "markdown",
   "id": "b3659106",
   "metadata": {},
   "source": [
    "Firstly We will create a model using the Sequential API by passing a list of layers to the Sequential\n",
    "constructor. input shape depends the dataset that we use. It is 28x28x1 because of mnist."
   ]
  },
  {
   "cell_type": "code",
   "execution_count": 2,
   "id": "f9e2b1e9",
   "metadata": {},
   "outputs": [],
   "source": [
    "layers = [Dense(256, input_shape=(28 * 28 * 1,), activation='sigmoid'),\n",
    "          Dense(128, activation='sigmoid'),\n",
    "          Dense(10, activation='softmax')]\n",
    "sequential_model2 = Sequential(layers)"
   ]
  },
  {
   "cell_type": "markdown",
   "id": "7fd306bb",
   "metadata": {},
   "source": [
    "Second way to create a model , we are using the add() method to add one layer at a time. The numbers in\n",
    "each layer correspond to the number of neurons or units it contains"
   ]
  },
  {
   "cell_type": "code",
   "execution_count": 3,
   "id": "62ac5ab9",
   "metadata": {},
   "outputs": [],
   "source": [
    "sequential_model = Sequential()\n",
    "sequential_model.add(Dense(256, input_shape=(28 * 28 * 1,), activation='sigmoid'))\n",
    "sequential_model.add(Dense(128, activation='sigmoid'))\n",
    "sequential_model.add(Dense(10, activation='softmax'))"
   ]
  },
  {
   "cell_type": "markdown",
   "id": "cf6d974d",
   "metadata": {},
   "source": [
    "Third way to create a model using the Functional API. we should add the input of layer at the end of new layer."
   ]
  },
  {
   "cell_type": "code",
   "execution_count": 4,
   "id": "edc193c9",
   "metadata": {},
   "outputs": [],
   "source": [
    "input_layer = Input(shape=(28 * 28 * 1,))\n",
    "dense_1 = Dense(256, activation='sigmoid')(input_layer)\n",
    "dense_2 = Dense(128, activation='sigmoid')(dense_1)\n",
    "predictions = Dense(10, activation='softmax')(dense_2)\n",
    "functional_model = Model(inputs=input_layer, outputs=predictions)"
   ]
  },
  {
   "cell_type": "markdown",
   "id": "4745cc0b",
   "metadata": {},
   "source": [
    "Fourth way to create a model using an object-oriented approach by sub-classing tensorflow.keras.models.Model."
   ]
  },
  {
   "cell_type": "code",
   "execution_count": 5,
   "id": "b6b5b81c",
   "metadata": {},
   "outputs": [],
   "source": [
    "class ClassModel(Model):\n",
    "    def __init__(self):\n",
    "        super(ClassModel, self).__init__()\n",
    "\n",
    "        self.dense_1 = Dense(256, activation='sigmoid')\n",
    "        self.dense_2 = Dense(256, activation='sigmoid')\n",
    "        self.predictions = Dense(10, activation='softmax')\n",
    "\n",
    "    def call(self, inputs, **kwargs):\n",
    "        x = self.dense_1(inputs)\n",
    "        x = self.dense_2(x)\n",
    "\n",
    "        return self.predictions(x)\n",
    "\n",
    "\n",
    "class_model = ClassModel()"
   ]
  },
  {
   "cell_type": "markdown",
   "id": "b643e96b",
   "metadata": {},
   "source": [
    "Let's prepare dataset. We must reshape the images into vector format because that's the format that's expected by a\n",
    "fully connected network.\n",
    "\n",
    "But first check what we have"
   ]
  },
  {
   "cell_type": "code",
   "execution_count": 6,
   "id": "81ea586e",
   "metadata": {},
   "outputs": [],
   "source": [
    "(X_train, y_train), (X_test, y_test) = mnist.load_data()"
   ]
  },
  {
   "cell_type": "code",
   "execution_count": 11,
   "id": "a7571951",
   "metadata": {},
   "outputs": [
    {
     "name": "stdout",
     "output_type": "stream",
     "text": [
      "X_train shape is :(60000, 28, 28)\n",
      "y_train shape is :(60000,)\n",
      "X_test shape is :(10000, 28, 28)\n",
      "y_test shape is :(10000,)\n"
     ]
    }
   ],
   "source": [
    "print('X_train shape is :{}'.format(X_train.shape))\n",
    "print('y_train shape is :{}'.format(y_train.shape))\n",
    "print('X_test shape is :{}'.format(X_test.shape))\n",
    "print('y_test shape is :{}'.format(y_test.shape))"
   ]
  },
  {
   "cell_type": "code",
   "execution_count": 12,
   "id": "a2498bcf",
   "metadata": {},
   "outputs": [],
   "source": [
    "X_train = X_train.reshape((X_train.shape[0], 28 * 28 * 1))"
   ]
  },
  {
   "cell_type": "code",
   "execution_count": 14,
   "id": "c941d993",
   "metadata": {},
   "outputs": [
    {
     "name": "stdout",
     "output_type": "stream",
     "text": [
      "X_train shape after reshaping is :(60000, 784)\n"
     ]
    }
   ],
   "source": [
    "print('X_train shape after reshaping is :{}'.format(X_train.shape))"
   ]
  },
  {
   "cell_type": "code",
   "execution_count": 15,
   "id": "415d010a",
   "metadata": {},
   "outputs": [
    {
     "name": "stdout",
     "output_type": "stream",
     "text": [
      "X_test shape after reshaping is :(10000, 784)\n"
     ]
    }
   ],
   "source": [
    "X_test = X_test.reshape((X_test.shape[0], 28 * 28 * 1))\n",
    "print('X_test shape after reshaping is :{}'.format(X_test.shape))"
   ]
  },
  {
   "cell_type": "code",
   "execution_count": 16,
   "id": "93342637",
   "metadata": {},
   "outputs": [],
   "source": [
    "X_train = X_train.astype('float32') / 255.0\n",
    "X_test = X_test.astype('float32') / 255.0"
   ]
  },
  {
   "cell_type": "markdown",
   "id": "6da15e5e",
   "metadata": {},
   "source": [
    "One-hot encode the labels to break any undesired ordering bias"
   ]
  },
  {
   "cell_type": "code",
   "execution_count": 19,
   "id": "f9ef52f5",
   "metadata": {},
   "outputs": [
    {
     "data": {
      "text/plain": [
       "array([5, 0, 4, 1, 9, 2, 1, 3, 1, 4], dtype=uint8)"
      ]
     },
     "execution_count": 19,
     "metadata": {},
     "output_type": "execute_result"
    }
   ],
   "source": [
    "y_train[:10]"
   ]
  },
  {
   "cell_type": "code",
   "execution_count": 20,
   "id": "86720474",
   "metadata": {},
   "outputs": [
    {
     "data": {
      "text/plain": [
       "array([7, 2, 1, 0, 4, 1, 4, 9, 5, 9], dtype=uint8)"
      ]
     },
     "execution_count": 20,
     "metadata": {},
     "output_type": "execute_result"
    }
   ],
   "source": [
    "y_test[:10]"
   ]
  },
  {
   "cell_type": "code",
   "execution_count": 21,
   "id": "2ab5204b",
   "metadata": {},
   "outputs": [],
   "source": [
    "label_binarizer = LabelBinarizer()\n",
    "y_train = label_binarizer.fit_transform(y_train)\n",
    "y_test = label_binarizer.fit_transform(y_test)"
   ]
  },
  {
   "cell_type": "code",
   "execution_count": 22,
   "id": "97eea3c7",
   "metadata": {},
   "outputs": [
    {
     "data": {
      "text/plain": [
       "array([[0, 0, 0, 0, 0, 1, 0, 0, 0, 0],\n",
       "       [1, 0, 0, 0, 0, 0, 0, 0, 0, 0],\n",
       "       [0, 0, 0, 0, 1, 0, 0, 0, 0, 0],\n",
       "       [0, 1, 0, 0, 0, 0, 0, 0, 0, 0],\n",
       "       [0, 0, 0, 0, 0, 0, 0, 0, 0, 1],\n",
       "       [0, 0, 1, 0, 0, 0, 0, 0, 0, 0],\n",
       "       [0, 1, 0, 0, 0, 0, 0, 0, 0, 0],\n",
       "       [0, 0, 0, 1, 0, 0, 0, 0, 0, 0],\n",
       "       [0, 1, 0, 0, 0, 0, 0, 0, 0, 0],\n",
       "       [0, 0, 0, 0, 1, 0, 0, 0, 0, 0]])"
      ]
     },
     "execution_count": 22,
     "metadata": {},
     "output_type": "execute_result"
    }
   ],
   "source": [
    "y_train[:10]"
   ]
  },
  {
   "cell_type": "markdown",
   "id": "f128e930",
   "metadata": {},
   "source": [
    " We need to split our train dataset for validation"
   ]
  },
  {
   "cell_type": "code",
   "execution_count": 23,
   "id": "0dfd2930",
   "metadata": {},
   "outputs": [],
   "source": [
    "X_train, X_valid, y_train, y_valid = train_test_split(X_train, y_train, train_size=0.8)"
   ]
  },
  {
   "cell_type": "code",
   "execution_count": 24,
   "id": "91ea60e0",
   "metadata": {},
   "outputs": [],
   "source": [
    "models = {\n",
    "    'sequential_model': sequential_model,\n",
    "    'sequential_model_list': sequential_model2,\n",
    "    'functional_model': functional_model,\n",
    "    'class_model': class_model\n",
    "}"
   ]
  },
  {
   "cell_type": "code",
   "execution_count": 26,
   "id": "0ee26f4d",
   "metadata": {},
   "outputs": [
    {
     "data": {
      "text/plain": [
       "dict_items([('sequential_model', <keras.engine.sequential.Sequential object at 0x00000186AC835430>), ('sequential_model_list', <keras.engine.sequential.Sequential object at 0x00000186F5A6C8B0>), ('functional_model', <keras.engine.functional.Functional object at 0x00000186AC849190>), ('class_model', <__main__.ClassModel object at 0x00000186B29B8F40>)])"
      ]
     },
     "execution_count": 26,
     "metadata": {},
     "output_type": "execute_result"
    }
   ],
   "source": [
    "models.items()"
   ]
  },
  {
   "cell_type": "code",
   "execution_count": 27,
   "id": "d662f8bc",
   "metadata": {},
   "outputs": [
    {
     "name": "stdout",
     "output_type": "stream",
     "text": [
      "Compiling model: sequential_model\n",
      "Training model: sequential_model\n",
      "Testing model: sequential_model. \n",
      "Accuracy: 0.9800999760627747\n",
      "---\n",
      "Compiling model: sequential_model_list\n",
      "Training model: sequential_model_list\n",
      "Testing model: sequential_model_list. \n",
      "Accuracy: 0.9801999926567078\n",
      "---\n",
      "Compiling model: functional_model\n",
      "Training model: functional_model\n",
      "Testing model: functional_model. \n",
      "Accuracy: 0.9811999797821045\n",
      "---\n",
      "Compiling model: class_model\n",
      "Training model: class_model\n",
      "Testing model: class_model. \n",
      "Accuracy: 0.9801999926567078\n",
      "---\n"
     ]
    }
   ],
   "source": [
    "for name, model in models.items():\n",
    "    print(f'Compiling model: {name}')\n",
    "    model.compile(loss='categorical_crossentropy', optimizer='adam', metrics=['accuracy'])\n",
    "\n",
    "    print(f'Training model: {name}')\n",
    "    model.fit(X_train, y_train,\n",
    "              validation_data=(X_valid, y_valid),\n",
    "              epochs=50,\n",
    "              batch_size=256,\n",
    "              verbose=0)\n",
    "\n",
    "    _, accuracy = model.evaluate(X_test, y_test, verbose=0)\n",
    "    print(f'Testing model: {name}. \\nAccuracy: {accuracy}')\n",
    "    print('---')"
   ]
  },
  {
   "cell_type": "markdown",
   "id": "1927bd30",
   "metadata": {},
   "source": [
    "### Loading images using the Keras API"
   ]
  },
  {
   "cell_type": "markdown",
   "id": "80b200fd",
   "metadata": {},
   "source": [
    "Main purposes of this section are :\n",
    "\n",
    "    how to load images using the Keras API,\n",
    "    how to open, explore, and visualize a single image, as well as a batch of them\n",
    "    how to programmatically download a dataset"
   ]
  },
  {
   "cell_type": "code",
   "execution_count": 28,
   "id": "acf45e64",
   "metadata": {},
   "outputs": [],
   "source": [
    "import glob\n",
    "import os\n",
    "import tarfile\n",
    "\n",
    "import matplotlib.pyplot as plt\n",
    "from tensorflow.keras.preprocessing.image import *\n",
    "from tensorflow.keras.utils import get_file"
   ]
  },
  {
   "cell_type": "markdown",
   "id": "ab0e18a5",
   "metadata": {},
   "source": [
    "URL and destination of the CINIC-10 dataset, an alternative to the famous CIFAR-10 dataset"
   ]
  },
  {
   "cell_type": "code",
   "execution_count": 29,
   "id": "6d6816de",
   "metadata": {},
   "outputs": [],
   "source": [
    "DATASET_URL = 'https://datashare.is.ed.ac.uk/bitstream/handle/10283/3192/CINIC-10.tar.gz?sequence=4&isAllowed=y'\n",
    "DATA_NAME = 'cinic10'\n",
    "FILE_EXTENSION = 'tar.gz'\n",
    "FILE_NAME = '.'.join([DATA_NAME, FILE_EXTENSION])"
   ]
  },
  {
   "cell_type": "code",
   "execution_count": 30,
   "id": "2958c26e",
   "metadata": {},
   "outputs": [
    {
     "name": "stdout",
     "output_type": "stream",
     "text": [
      "cinic10.tar.gz\n"
     ]
    }
   ],
   "source": [
    "print(FILE_NAME)"
   ]
  },
  {
   "cell_type": "markdown",
   "id": "95fe6c51",
   "metadata": {},
   "source": [
    "Now we will download and decompress the data because it would be zipped. By default, it will be stored in ~/.keras/datasets/<FILE_NAME>:"
   ]
  },
  {
   "cell_type": "code",
   "execution_count": 31,
   "id": "1dbb3702",
   "metadata": {},
   "outputs": [],
   "source": [
    "# Downloading the data.\n",
    "downloaded_file_location = get_file(origin=DATASET_URL, fname=FILE_NAME, extract=False)"
   ]
  },
  {
   "cell_type": "markdown",
   "id": "0e381474",
   "metadata": {},
   "source": [
    "If the file already exists in this location, get_file() is intelligent enough to not download it again."
   ]
  },
  {
   "cell_type": "code",
   "execution_count": 32,
   "id": "3ce9ab28",
   "metadata": {},
   "outputs": [
    {
     "name": "stdout",
     "output_type": "stream",
     "text": [
      "C:\\Users\\Zeki\\.keras\\datasets\\cinic10.tar.gz\n"
     ]
    }
   ],
   "source": [
    "print(downloaded_file_location)"
   ]
  },
  {
   "cell_type": "markdown",
   "id": "3f92f249",
   "metadata": {},
   "source": [
    "I prineted all the cells to show 'how to join and split filenames' operations"
   ]
  },
  {
   "cell_type": "code",
   "execution_count": 33,
   "id": "83351ef4",
   "metadata": {},
   "outputs": [],
   "source": [
    "data_directory, _ = downloaded_file_location.rsplit(os.path.sep, maxsplit=1)"
   ]
  },
  {
   "cell_type": "code",
   "execution_count": 34,
   "id": "5ca39ca7",
   "metadata": {},
   "outputs": [
    {
     "data": {
      "text/plain": [
       "'C:\\\\Users\\\\Zeki\\\\.keras\\\\datasets'"
      ]
     },
     "execution_count": 34,
     "metadata": {},
     "output_type": "execute_result"
    }
   ],
   "source": [
    "data_directory"
   ]
  },
  {
   "cell_type": "code",
   "execution_count": 35,
   "id": "840f4ec4",
   "metadata": {},
   "outputs": [
    {
     "data": {
      "text/plain": [
       "'cinic10.tar.gz'"
      ]
     },
     "execution_count": 35,
     "metadata": {},
     "output_type": "execute_result"
    }
   ],
   "source": [
    "_"
   ]
  },
  {
   "cell_type": "code",
   "execution_count": 36,
   "id": "bfa05f93",
   "metadata": {},
   "outputs": [],
   "source": [
    "data_directory = os.path.sep.join([data_directory, DATA_NAME])"
   ]
  },
  {
   "cell_type": "code",
   "execution_count": 37,
   "id": "51dab225",
   "metadata": {},
   "outputs": [
    {
     "data": {
      "text/plain": [
       "'C:\\\\Users\\\\Zeki\\\\.keras\\\\datasets\\\\cinic10'"
      ]
     },
     "execution_count": 37,
     "metadata": {},
     "output_type": "execute_result"
    }
   ],
   "source": [
    "data_directory"
   ]
  },
  {
   "cell_type": "code",
   "execution_count": 38,
   "id": "e1d893ba",
   "metadata": {},
   "outputs": [],
   "source": [
    "tar = tarfile.open(downloaded_file_location)\n",
    "\n",
    "if not os.path.exists(data_directory):\n",
    "    tar.extractall(data_directory)"
   ]
  },
  {
   "attachments": {
    "image-2.png": {
     "image/png": "[encoded data removed]"
    }
   },
   "cell_type": "markdown",
   "id": "46a8ce7c",
   "metadata": {},
   "source": [
    " And the result should be like the highligted files :  \n",
    " \n",
    "![image-2.png](attachment:image-2.png)"
   ]
  },
  {
   "cell_type": "markdown",
   "id": "dcdf5a7e",
   "metadata": {},
   "source": [
    "Now we should look at our dataset and load all image paths"
   ]
  },
  {
   "cell_type": "code",
   "execution_count": 39,
   "id": "f81b9d91",
   "metadata": {},
   "outputs": [
    {
     "name": "stdout",
     "output_type": "stream",
     "text": [
      "C:\\Users\\Zeki\\.keras\\datasets\\cinic10\\*/*/*.png\n"
     ]
    }
   ],
   "source": [
    "data_pattern = os.path.sep.join([data_directory, '*/*/*.png'])\n",
    "print(data_pattern)"
   ]
  },
  {
   "cell_type": "code",
   "execution_count": 40,
   "id": "440bee0d",
   "metadata": {},
   "outputs": [
    {
     "name": "stdout",
     "output_type": "stream",
     "text": [
      "Sample image path: C:\\Users\\Zeki\\.keras\\datasets\\cinic10\\test\\airplane\\cifar10-test-10.png\n"
     ]
    }
   ],
   "source": [
    "image_paths = list(glob.glob(data_pattern))\n",
    "print(f'Sample image path: {image_paths[0]}')"
   ]
  },
  {
   "cell_type": "code",
   "execution_count": 41,
   "id": "8ea2f4f2",
   "metadata": {},
   "outputs": [
    {
     "name": "stdout",
     "output_type": "stream",
     "text": [
      "There are 270,000 images in the dataset\n"
     ]
    }
   ],
   "source": [
    "print(f'There are {len(image_paths):,} images in the dataset')"
   ]
  },
  {
   "cell_type": "markdown",
   "id": "0a2423d4",
   "metadata": {},
   "source": [
    "Now let's load a single image from the dataset and print its metadata"
   ]
  },
  {
   "cell_type": "code",
   "execution_count": 42,
   "id": "5701b6a9",
   "metadata": {},
   "outputs": [
    {
     "name": "stdout",
     "output_type": "stream",
     "text": [
      "Image type: <class 'PIL.PngImagePlugin.PngImageFile'>\n",
      "Image format: PNG\n",
      "Image mode: RGB\n",
      "Image size: (32, 32)\n"
     ]
    }
   ],
   "source": [
    "sample_image = load_img(image_paths[0])\n",
    "print(f'Image type: {type(sample_image)}')\n",
    "print(f'Image format: {sample_image.format}')\n",
    "print(f'Image mode: {sample_image.mode}') #RGB\n",
    "print(f'Image size: {sample_image.size}')  #32x32"
   ]
  },
  {
   "cell_type": "markdown",
   "id": "0cb27a40",
   "metadata": {},
   "source": [
    "for using this image as an input to our model, we should convert it to numpy array. "
   ]
  },
  {
   "cell_type": "code",
   "execution_count": 43,
   "id": "ffe2452c",
   "metadata": {},
   "outputs": [
    {
     "name": "stdout",
     "output_type": "stream",
     "text": [
      "Image type: <class 'numpy.ndarray'>\n",
      "Image array shape: (32, 32, 3)\n"
     ]
    }
   ],
   "source": [
    "# Convert image to array\n",
    "sample_image_array = img_to_array(sample_image)\n",
    "print(f'Image type: {type(sample_image_array)}')\n",
    "print(f'Image array shape: {sample_image_array.shape}') # (32,32,3)"
   ]
  },
  {
   "cell_type": "code",
   "execution_count": 44,
   "id": "2e3d95f6",
   "metadata": {},
   "outputs": [
    {
     "data": {
      "text/plain": [
       "array([[[ 90., 124., 149.],\n",
       "        [ 90., 124., 149.],\n",
       "        [ 91., 125., 150.],\n",
       "        ...,\n",
       "        [103., 131., 148.],\n",
       "        [100., 128., 146.],\n",
       "        [100., 129., 146.]],\n",
       "\n",
       "       [[ 92., 127., 153.],\n",
       "        [ 93., 127., 152.],\n",
       "        [ 94., 128., 153.],\n",
       "        ...,\n",
       "        [114., 137., 151.],\n",
       "        [103., 130., 148.],\n",
       "        [102., 132., 152.]],\n",
       "\n",
       "       [[ 93., 128., 153.],\n",
       "        [ 93., 127., 152.],\n",
       "        [ 94., 128., 152.],\n",
       "        ...,\n",
       "        [114., 133., 145.],\n",
       "        [103., 129., 147.],\n",
       "        [101., 132., 152.]],\n",
       "\n",
       "       ...,\n",
       "\n",
       "       [[101., 133., 154.],\n",
       "        [101., 132., 153.],\n",
       "        [102., 133., 154.],\n",
       "        ...,\n",
       "        [ 94., 124., 150.],\n",
       "        [ 92., 122., 148.],\n",
       "        [ 91., 122., 148.]],\n",
       "\n",
       "       [[100., 131., 153.],\n",
       "        [101., 132., 153.],\n",
       "        [102., 133., 154.],\n",
       "        ...,\n",
       "        [ 93., 123., 149.],\n",
       "        [ 90., 120., 146.],\n",
       "        [ 90., 121., 147.]],\n",
       "\n",
       "       [[ 99., 130., 152.],\n",
       "        [100., 130., 151.],\n",
       "        [101., 132., 153.],\n",
       "        ...,\n",
       "        [ 92., 122., 148.],\n",
       "        [ 90., 120., 146.],\n",
       "        [ 89., 120., 146.]]], dtype=float32)"
      ]
     },
     "execution_count": 44,
     "metadata": {},
     "output_type": "execute_result"
    }
   ],
   "source": [
    "sample_image_array"
   ]
  },
  {
   "cell_type": "code",
   "execution_count": 47,
   "id": "75b57e83",
   "metadata": {},
   "outputs": [
    {
     "name": "stderr",
     "output_type": "stream",
     "text": [
      "Clipping input data to the valid range for imshow with RGB data ([0..1] for floats or [0..255] for integers).\n"
     ]
    },
    {
     "data": {
      "text/plain": [
       "<matplotlib.image.AxesImage at 0x1887e66efd0>"
      ]
     },
     "execution_count": 47,
     "metadata": {},
     "output_type": "execute_result"
    },
    {
     "data": {
      "image/png": "[encoded data removed]",
      "text/plain": [
       "<Figure size 432x288 with 1 Axes>"
      ]
     },
     "metadata": {
      "needs_background": "light"
     },
     "output_type": "display_data"
    }
   ],
   "source": [
    "plt.imshow(sample_image_array)"
   ]
  },
  {
   "cell_type": "markdown",
   "id": "d90ed650",
   "metadata": {},
   "source": [
    " NOTE : 'imshow with RGB data ([0..1] for floats or [0..255] for integers)' Because of that we should divide every pixel to 255!!!!"
   ]
  },
  {
   "cell_type": "code",
   "execution_count": 45,
   "id": "81a0d856",
   "metadata": {},
   "outputs": [
    {
     "data": {
      "text/plain": [
       "array([[[0.3529412 , 0.4862745 , 0.58431375],\n",
       "        [0.3529412 , 0.4862745 , 0.58431375],\n",
       "        [0.35686275, 0.49019608, 0.5882353 ],\n",
       "        ...,\n",
       "        [0.40392157, 0.5137255 , 0.5803922 ],\n",
       "        [0.39215687, 0.5019608 , 0.57254905],\n",
       "        [0.39215687, 0.5058824 , 0.57254905]],\n",
       "\n",
       "       [[0.36078432, 0.49803922, 0.6       ],\n",
       "        [0.3647059 , 0.49803922, 0.59607846],\n",
       "        [0.36862746, 0.5019608 , 0.6       ],\n",
       "        ...,\n",
       "        [0.44705883, 0.5372549 , 0.5921569 ],\n",
       "        [0.40392157, 0.50980395, 0.5803922 ],\n",
       "        [0.4       , 0.5176471 , 0.59607846]],\n",
       "\n",
       "       [[0.3647059 , 0.5019608 , 0.6       ],\n",
       "        [0.3647059 , 0.49803922, 0.59607846],\n",
       "        [0.36862746, 0.5019608 , 0.59607846],\n",
       "        ...,\n",
       "        [0.44705883, 0.52156866, 0.5686275 ],\n",
       "        [0.40392157, 0.5058824 , 0.5764706 ],\n",
       "        [0.39607844, 0.5176471 , 0.59607846]],\n",
       "\n",
       "       ...,\n",
       "\n",
       "       [[0.39607844, 0.52156866, 0.6039216 ],\n",
       "        [0.39607844, 0.5176471 , 0.6       ],\n",
       "        [0.4       , 0.52156866, 0.6039216 ],\n",
       "        ...,\n",
       "        [0.36862746, 0.4862745 , 0.5882353 ],\n",
       "        [0.36078432, 0.47843137, 0.5803922 ],\n",
       "        [0.35686275, 0.47843137, 0.5803922 ]],\n",
       "\n",
       "       [[0.39215687, 0.5137255 , 0.6       ],\n",
       "        [0.39607844, 0.5176471 , 0.6       ],\n",
       "        [0.4       , 0.52156866, 0.6039216 ],\n",
       "        ...,\n",
       "        [0.3647059 , 0.48235294, 0.58431375],\n",
       "        [0.3529412 , 0.47058824, 0.57254905],\n",
       "        [0.3529412 , 0.4745098 , 0.5764706 ]],\n",
       "\n",
       "       [[0.3882353 , 0.50980395, 0.59607846],\n",
       "        [0.39215687, 0.50980395, 0.5921569 ],\n",
       "        [0.39607844, 0.5176471 , 0.6       ],\n",
       "        ...,\n",
       "        [0.36078432, 0.47843137, 0.5803922 ],\n",
       "        [0.3529412 , 0.47058824, 0.57254905],\n",
       "        [0.34901962, 0.47058824, 0.57254905]]], dtype=float32)"
      ]
     },
     "execution_count": 45,
     "metadata": {},
     "output_type": "execute_result"
    }
   ],
   "source": [
    "sample_image_array/255"
   ]
  },
  {
   "cell_type": "code",
   "execution_count": 46,
   "id": "dc862a76",
   "metadata": {},
   "outputs": [
    {
     "data": {
      "text/plain": [
       "<matplotlib.image.AxesImage at 0x1887e88d940>"
      ]
     },
     "execution_count": 46,
     "metadata": {},
     "output_type": "execute_result"
    },
    {
     "data": {
      "image/png": "[encoded data removed]",
      "text/plain": [
       "<Figure size 432x288 with 1 Axes>"
      ]
     },
     "metadata": {
      "needs_background": "light"
     },
     "output_type": "display_data"
    }
   ],
   "source": [
    "plt.imshow(sample_image_array / 255.0)"
   ]
  },
  {
   "cell_type": "markdown",
   "id": "79702bc8",
   "metadata": {},
   "source": [
    " now loading a batch of images... with the help of ImageDataGenerator()"
   ]
  },
  {
   "cell_type": "code",
   "execution_count": 48,
   "id": "d26506a9",
   "metadata": {},
   "outputs": [],
   "source": [
    "scale_factor = 1.0 / 255.0\n",
    "image_generator = ImageDataGenerator(horizontal_flip=True, rescale=scale_factor)"
   ]
  },
  {
   "cell_type": "markdown",
   "id": "2ec483b5",
   "metadata": {},
   "source": [
    "Using image_generator, we'll pick and display a random batch of 10 images"
   ]
  },
  {
   "cell_type": "code",
   "execution_count": 49,
   "id": "355c30ce",
   "metadata": {},
   "outputs": [
    {
     "name": "stdout",
     "output_type": "stream",
     "text": [
      "Found 270000 images belonging to 3 classes.\n"
     ]
    }
   ],
   "source": [
    "iterator = (image_generator.flow_from_directory(directory=data_directory,batch_size=10))"
   ]
  },
  {
   "cell_type": "code",
   "execution_count": 52,
   "id": "5f44a838",
   "metadata": {},
   "outputs": [
    {
     "name": "stdout",
     "output_type": "stream",
     "text": [
      "<keras.preprocessing.image.DirectoryIterator object at 0x000001887E8BF310>\n"
     ]
    }
   ],
   "source": [
    "print(iterator)"
   ]
  },
  {
   "cell_type": "code",
   "execution_count": 53,
   "id": "0dd3ba5e",
   "metadata": {},
   "outputs": [
    {
     "data": {
      "image/png": "[encoded data removed]",
      "text/plain": [
       "<Figure size 360x360 with 10 Axes>"
      ]
     },
     "metadata": {
      "needs_background": "light"
     },
     "output_type": "display_data"
    }
   ],
   "source": [
    "for batch, _ in iterator:\n",
    "    plt.figure(figsize=(5, 5))\n",
    "    for index, image in enumerate(batch, start=1):\n",
    "        ax = plt.subplot(5, 5, index)\n",
    "        plt.imshow(image)\n",
    "        plt.axis('off')\n",
    "\n",
    "    plt.show()\n",
    "    break"
   ]
  },
  {
   "cell_type": "code",
   "execution_count": null,
   "id": "6efa8353",
   "metadata": {},
   "outputs": [],
   "source": []
  },
  {
   "cell_type": "markdown",
   "id": "5f210993",
   "metadata": {},
   "source": [
    "### Loading images using the tf.data.Dataset API"
   ]
  },
  {
   "cell_type": "code",
   "execution_count": 54,
   "id": "c81db182",
   "metadata": {},
   "outputs": [],
   "source": [
    "import os\n",
    "import tarfile\n",
    "\n",
    "import matplotlib.pyplot as plt\n",
    "import numpy as np\n",
    "import tensorflow as tf\n",
    "from tensorflow.keras.utils import get_file"
   ]
  },
  {
   "cell_type": "code",
   "execution_count": 55,
   "id": "7de270bf",
   "metadata": {},
   "outputs": [
    {
     "name": "stdout",
     "output_type": "stream",
     "text": [
      "Data downloaded to C:\\Users\\Zeki\\.keras\\datasets\\cinic10\n"
     ]
    }
   ],
   "source": [
    "DATASET_URL = 'https://datashare.is.ed.ac.uk/bitstream/handle/10283/3192/CINIC-10.tar.gz?sequence=4&isAllowed=y'\n",
    "DATA_NAME = 'cinic10'\n",
    "FILE_EXTENSION = 'tar.gz'\n",
    "FILE_NAME = '.'.join([DATA_NAME, FILE_EXTENSION])\n",
    "\n",
    "# Downloading the data.\n",
    "downloaded_file_location = get_file(origin=DATASET_URL, fname=FILE_NAME, extract=False)\n",
    "\n",
    "data_directory, _ = downloaded_file_location.rsplit(os.path.sep, maxsplit=1)\n",
    "data_directory = os.path.sep.join([data_directory, DATA_NAME])\n",
    "tar = tarfile.open(downloaded_file_location)\n",
    "\n",
    "if not os.path.exists(data_directory):\n",
    "    tar.extractall(data_directory)\n",
    "\n",
    "print(f'Data downloaded to {data_directory}')\n",
    "data_pattern = os.path.sep.join([data_directory, '*/*/*.png'])"
   ]
  },
  {
   "cell_type": "code",
   "execution_count": 56,
   "id": "fbc592ca",
   "metadata": {},
   "outputs": [
    {
     "data": {
      "text/plain": [
       "'C:\\\\Users\\\\Zeki\\\\.keras\\\\datasets\\\\cinic10\\\\*/*/*.png'"
      ]
     },
     "execution_count": 56,
     "metadata": {},
     "output_type": "execute_result"
    }
   ],
   "source": [
    "data_pattern"
   ]
  },
  {
   "cell_type": "code",
   "execution_count": 57,
   "id": "84301546",
   "metadata": {},
   "outputs": [],
   "source": [
    "image_dataset = tf.data.Dataset.list_files(data_pattern)"
   ]
  },
  {
   "cell_type": "code",
   "execution_count": 58,
   "id": "57a5a28f",
   "metadata": {},
   "outputs": [
    {
     "data": {
      "text/plain": [
       "<ShuffleDataset shapes: (), types: tf.string>"
      ]
     },
     "execution_count": 58,
     "metadata": {},
     "output_type": "execute_result"
    }
   ],
   "source": [
    "image_dataset"
   ]
  },
  {
   "cell_type": "code",
   "execution_count": 60,
   "id": "d56d5413",
   "metadata": {},
   "outputs": [
    {
     "name": "stdout",
     "output_type": "stream",
     "text": [
      "Sample image path: b'C:\\\\Users\\\\Zeki\\\\.keras\\\\datasets\\\\cinic10\\\\valid\\\\ship\\\\n03662601_15823.png'\n",
      "Sample image path: b'C:\\\\Users\\\\Zeki\\\\.keras\\\\datasets\\\\cinic10\\\\valid\\\\truck\\\\cifar10-train-3045.png'\n",
      "Sample image path: b'C:\\\\Users\\\\Zeki\\\\.keras\\\\datasets\\\\cinic10\\\\train\\\\automobile\\\\cifar10-train-49286.png'\n"
     ]
    }
   ],
   "source": [
    "for file_path in image_dataset.take(3):\n",
    "    sample_path = file_path.numpy()\n",
    "    print(f'Sample image path: {sample_path}')"
   ]
  },
  {
   "cell_type": "code",
   "execution_count": 61,
   "id": "f1c7ba3c",
   "metadata": {},
   "outputs": [
    {
     "name": "stdout",
     "output_type": "stream",
     "text": [
      "Sample image path: b'C:\\\\Users\\\\Zeki\\\\.keras\\\\datasets\\\\cinic10\\\\train\\\\bird\\\\n02004131_4972.png'\n"
     ]
    }
   ],
   "source": [
    "for file_path in image_dataset.take(1):\n",
    "    sample_path = file_path.numpy()\n",
    "    print(f'Sample image path: {sample_path}')"
   ]
  },
  {
   "cell_type": "markdown",
   "id": "0217f9bd",
   "metadata": {},
   "source": [
    " We prepared the path for single image.. now load it and convert tot array for neural network"
   ]
  },
  {
   "cell_type": "code",
   "execution_count": 62,
   "id": "bef664dd",
   "metadata": {},
   "outputs": [],
   "source": [
    "sample_image = tf.io.read_file(sample_path)"
   ]
  },
  {
   "cell_type": "code",
   "execution_count": 63,
   "id": "14766349",
   "metadata": {},
   "outputs": [
    {
     "name": "stdout",
     "output_type": "stream",
     "text": [
      "Image type: <class 'tensorflow.python.framework.ops.EagerTensor'>\n"
     ]
    }
   ],
   "source": [
    "print(f'Image type: {type(sample_image)}')"
   ]
  },
  {
   "cell_type": "code",
   "execution_count": 64,
   "id": "a668a39b",
   "metadata": {},
   "outputs": [],
   "source": [
    "sample_image = tf.image.decode_png(sample_image, channels=3)"
   ]
  },
  {
   "cell_type": "code",
   "execution_count": 65,
   "id": "172b6faf",
   "metadata": {},
   "outputs": [
    {
     "data": {
      "text/plain": [
       "<tf.Tensor: shape=(32, 32, 3), dtype=uint8, numpy=\n",
       "array([[[105,  99,  55],\n",
       "        [ 98, 102,  52],\n",
       "        [ 90, 106,  49],\n",
       "        ...,\n",
       "        [115, 115,  66],\n",
       "        [140, 130,  77],\n",
       "        [115, 118,  60]],\n",
       "\n",
       "       [[ 83,  88,  43],\n",
       "        [ 95,  91,  48],\n",
       "        [ 87,  93,  43],\n",
       "        ...,\n",
       "        [ 46,  43,  32],\n",
       "        [ 90,  80,  52],\n",
       "        [123, 115,  60]],\n",
       "\n",
       "       [[ 98, 100,  53],\n",
       "        [ 79,  86,  44],\n",
       "        [ 79,  93,  44],\n",
       "        ...,\n",
       "        [ 61,  68,  32],\n",
       "        [ 92,  89,  39],\n",
       "        [ 94,  91,  40]],\n",
       "\n",
       "       ...,\n",
       "\n",
       "       [[ 56,  80,  26],\n",
       "        [ 86, 119,  16],\n",
       "        [116, 147,  42],\n",
       "        ...,\n",
       "        [ 72,  92,  29],\n",
       "        [ 87, 109,  48],\n",
       "        [ 82, 108,  44]],\n",
       "\n",
       "       [[ 53,  84,  22],\n",
       "        [ 62,  90,  32],\n",
       "        [ 47,  81,  17],\n",
       "        ...,\n",
       "        [ 97, 119,  43],\n",
       "        [ 82, 108,  35],\n",
       "        [ 83, 107,  37]],\n",
       "\n",
       "       [[ 75, 100,  37],\n",
       "        [ 67,  88,  29],\n",
       "        [ 87, 101,  33],\n",
       "        ...,\n",
       "        [ 88,  99,  47],\n",
       "        [ 89, 110,  52],\n",
       "        [ 97, 113,  52]]], dtype=uint8)>"
      ]
     },
     "execution_count": 65,
     "metadata": {},
     "output_type": "execute_result"
    }
   ],
   "source": [
    "sample_image"
   ]
  },
  {
   "cell_type": "code",
   "execution_count": 66,
   "id": "3712eab0",
   "metadata": {},
   "outputs": [
    {
     "name": "stdout",
     "output_type": "stream",
     "text": [
      "Image type: <class 'tensorflow.python.framework.ops.EagerTensor'>\n"
     ]
    }
   ],
   "source": [
    "print(f'Image type: {type(sample_image)}')"
   ]
  },
  {
   "cell_type": "code",
   "execution_count": 67,
   "id": "d5fdda01",
   "metadata": {},
   "outputs": [],
   "source": [
    "sample_image = sample_image.numpy()"
   ]
  },
  {
   "cell_type": "code",
   "execution_count": 68,
   "id": "c7504e3c",
   "metadata": {},
   "outputs": [
    {
     "name": "stdout",
     "output_type": "stream",
     "text": [
      "Image type: <class 'numpy.ndarray'>\n"
     ]
    }
   ],
   "source": [
    "print(f'Image type: {type(sample_image)}')"
   ]
  },
  {
   "cell_type": "code",
   "execution_count": 69,
   "id": "0ab1115a",
   "metadata": {},
   "outputs": [
    {
     "data": {
      "text/plain": [
       "<matplotlib.image.AxesImage at 0x188aa91a070>"
      ]
     },
     "execution_count": 69,
     "metadata": {},
     "output_type": "execute_result"
    },
    {
     "data": {
      "image/png": "[encoded data removed]",
      "text/plain": [
       "<Figure size 432x288 with 1 Axes>"
      ]
     },
     "metadata": {
      "needs_background": "light"
     },
     "output_type": "display_data"
    }
   ],
   "source": [
    "plt.imshow(sample_image / 255.0)"
   ]
  },
  {
   "cell_type": "markdown",
   "id": "0103b9c9",
   "metadata": {},
   "source": [
    " Like the previous section, show 10 images from dataset. Take the first 10 elements of image_dataset, decode and normalize them, and then display them"
   ]
  },
  {
   "cell_type": "code",
   "execution_count": 70,
   "id": "85bd0530",
   "metadata": {},
   "outputs": [
    {
     "data": {
      "image/png": "[encoded data removed]",
      "text/plain": [
       "<Figure size 360x360 with 10 Axes>"
      ]
     },
     "metadata": {
      "needs_background": "light"
     },
     "output_type": "display_data"
    }
   ],
   "source": [
    "# Load a a batch of images.\n",
    "plt.figure(figsize=(5, 5))\n",
    "for index, image_path in enumerate(image_dataset.take(10), start=1):\n",
    "    image = tf.io.read_file(image_path)\n",
    "    image = tf.image.decode_png(image, channels=3)\n",
    "    image = tf.image.convert_image_dtype(image, np.float32)\n",
    "\n",
    "    ax = plt.subplot(5, 5, index)\n",
    "    plt.imshow(image)\n",
    "    plt.axis('off')\n",
    "\n",
    "plt.show()\n",
    "plt.close()"
   ]
  },
  {
   "cell_type": "code",
   "execution_count": null,
   "id": "51c9396d",
   "metadata": {},
   "outputs": [],
   "source": []
  },
  {
   "cell_type": "code",
   "execution_count": null,
   "id": "47598dfa",
   "metadata": {},
   "outputs": [],
   "source": []
  },
  {
   "cell_type": "code",
   "execution_count": null,
   "id": "7e8ca728",
   "metadata": {},
   "outputs": [],
   "source": []
  },
  {
   "cell_type": "code",
   "execution_count": null,
   "id": "079f06f4",
   "metadata": {},
   "outputs": [],
   "source": []
  },
  {
   "cell_type": "code",
   "execution_count": null,
   "id": "1169f73d",
   "metadata": {},
   "outputs": [],
   "source": []
  },
  {
   "cell_type": "code",
   "execution_count": null,
   "id": "d83ea014",
   "metadata": {},
   "outputs": [],
   "source": []
  },
  {
   "cell_type": "code",
   "execution_count": null,
   "id": "4242c550",
   "metadata": {},
   "outputs": [],
   "source": []
  }
 ],
 "metadata": {
  "kernelspec": {
   "display_name": "Python 3 (ipykernel)",
   "language": "python",
   "name": "python3"
  },
  "language_info": {
   "codemirror_mode": {
    "name": "ipython",
    "version": 3
   },
   "file_extension": ".py",
   "mimetype": "text/x-python",
   "name": "python",
   "nbconvert_exporter": "python",
   "pygments_lexer": "ipython3",
   "version": "3.8.13"
  }
 },
 "nbformat": 4,
 "nbformat_minor": 5
}
